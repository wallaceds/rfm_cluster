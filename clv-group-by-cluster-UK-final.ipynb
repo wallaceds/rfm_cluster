{
 "cells": [
  {
   "cell_type": "markdown",
   "metadata": {},
   "source": [
    "### 1 - INTRODUÇÃO\n",
    "\n",
    "#### Objetivo: Criar um modelo de machine learning não supervisionado com o objetivo de clusterizar clientes do Reino Unido baseado em Recency, Frequency e Monetarity, conceito muito utilizado no Lifetime Value para o quão recente é uma compra, a frequência de compra e o total gasto em compras respectivamente. \n",
    "#### Modelo de Machine Learning utilizado: K MEANS - (modelo  não supervisionado e de clustering)\n",
    "- Esses dados fictícios e de inspiração na compras de produtos Tech Cloud de empresas britânicas é constituído de seis atributos. Eles representam o cliente(account_group) e suas compras em produtos de tech cloud. Cada compra gera um valor de licença na nuvem, que por sua vez é distribuído por uma quantidade permitida em contrato para dezenas, centenas ou milhares de funcionários. Portanto, cada Value no dataset, está implicito o valor de licença naquele pacote e contrato de produto de Tech.\n",
    "- Cada coluna do dataset pode ser descrita por: SALE_ID, SALE_DATE, COUNTRY, ACCOUNT_GROUP, PRODUCT e VALUE.\n",
    "- O conjunto de dados é fictício e corresponde a parcialmente empresas verdadeiras e fictícias do Reino Unido e foi criado por finalidade de cunho acadêmica e de natureza didática para facilitar a compreensão e simular a segmentação por RFM para clientes no ambiente em nuvem. "
   ]
  },
  {
   "cell_type": "markdown",
   "metadata": {},
   "source": [
    "### 2 - IMPORTANDO OS PACOTES"
   ]
  },
  {
   "cell_type": "code",
   "execution_count": 1,
   "metadata": {
    "scrolled": true
   },
   "outputs": [],
   "source": [
    "from datetime import datetime, timedelta,date\n",
    "import pandas as pd\n",
    "%matplotlib inline\n",
    "import matplotlib.pyplot as plt\n",
    "import numpy as np\n",
    "import seaborn as sns\n",
    "from sklearn.cluster import KMeans\n",
    "import warnings\n",
    "warnings.filterwarnings('ignore')\n",
    "\n",
    "import plotly as py\n",
    "import plotly.offline as pyoff\n",
    "import plotly.graph_objs as go"
   ]
  },
  {
   "cell_type": "code",
   "execution_count": 2,
   "metadata": {},
   "outputs": [],
   "source": [
    "df = pd.read_excel (r'C:\\Projetos Python\\TCC\\input\\UK_TECH.xlsx')"
   ]
  },
  {
   "cell_type": "code",
   "execution_count": 3,
   "metadata": {},
   "outputs": [
    {
     "data": {
      "text/html": [
       "<div>\n",
       "<style scoped>\n",
       "    .dataframe tbody tr th:only-of-type {\n",
       "        vertical-align: middle;\n",
       "    }\n",
       "\n",
       "    .dataframe tbody tr th {\n",
       "        vertical-align: top;\n",
       "    }\n",
       "\n",
       "    .dataframe thead th {\n",
       "        text-align: right;\n",
       "    }\n",
       "</style>\n",
       "<table border=\"1\" class=\"dataframe\">\n",
       "  <thead>\n",
       "    <tr style=\"text-align: right;\">\n",
       "      <th></th>\n",
       "      <th>SALE_ID</th>\n",
       "      <th>SALE_DATE</th>\n",
       "      <th>COUNTRY</th>\n",
       "      <th>CUSTOMER</th>\n",
       "      <th>PRODUCT</th>\n",
       "      <th>VALUE</th>\n",
       "    </tr>\n",
       "  </thead>\n",
       "  <tbody>\n",
       "    <tr>\n",
       "      <th>0</th>\n",
       "      <td>Z8XBXL5</td>\n",
       "      <td>2019-04-30</td>\n",
       "      <td>UK</td>\n",
       "      <td>AGRI COMPANY</td>\n",
       "      <td>TECH</td>\n",
       "      <td>9600.0</td>\n",
       "    </tr>\n",
       "    <tr>\n",
       "      <th>1</th>\n",
       "      <td>ZB9HXJ3</td>\n",
       "      <td>2019-04-30</td>\n",
       "      <td>UK</td>\n",
       "      <td>AGRI COMPANY</td>\n",
       "      <td>TECH</td>\n",
       "      <td>8000.0</td>\n",
       "    </tr>\n",
       "    <tr>\n",
       "      <th>2</th>\n",
       "      <td>Z7NWX5S</td>\n",
       "      <td>2017-12-22</td>\n",
       "      <td>UK</td>\n",
       "      <td>STAR CORPORATION</td>\n",
       "      <td>TECH</td>\n",
       "      <td>27920.0</td>\n",
       "    </tr>\n",
       "    <tr>\n",
       "      <th>3</th>\n",
       "      <td>Z7NWX5S</td>\n",
       "      <td>2017-12-22</td>\n",
       "      <td>UK</td>\n",
       "      <td>STAR CORPORATION</td>\n",
       "      <td>TECH</td>\n",
       "      <td>0.8</td>\n",
       "    </tr>\n",
       "    <tr>\n",
       "      <th>4</th>\n",
       "      <td>Z7NWX5S</td>\n",
       "      <td>2017-12-22</td>\n",
       "      <td>UK</td>\n",
       "      <td>STAR CORPORATION</td>\n",
       "      <td>TECH</td>\n",
       "      <td>81264.0</td>\n",
       "    </tr>\n",
       "  </tbody>\n",
       "</table>\n",
       "</div>"
      ],
      "text/plain": [
       "   SALE_ID   SALE_DATE COUNTRY          CUSTOMER PRODUCT    VALUE\n",
       "0  Z8XBXL5  2019-04-30      UK      AGRI COMPANY    TECH   9600.0\n",
       "1  ZB9HXJ3  2019-04-30      UK      AGRI COMPANY    TECH   8000.0\n",
       "2  Z7NWX5S  2017-12-22      UK  STAR CORPORATION    TECH  27920.0\n",
       "3  Z7NWX5S  2017-12-22      UK  STAR CORPORATION    TECH      0.8\n",
       "4  Z7NWX5S  2017-12-22      UK  STAR CORPORATION    TECH  81264.0"
      ]
     },
     "execution_count": 3,
     "metadata": {},
     "output_type": "execute_result"
    }
   ],
   "source": [
    "df.head()"
   ]
  },
  {
   "cell_type": "code",
   "execution_count": 6,
   "metadata": {},
   "outputs": [
    {
     "name": "stdout",
     "output_type": "stream",
     "text": [
      "<class 'pandas.core.frame.DataFrame'>\n",
      "RangeIndex: 5697 entries, 0 to 5696\n",
      "Data columns (total 6 columns):\n",
      " #   Column     Non-Null Count  Dtype  \n",
      "---  ------     --------------  -----  \n",
      " 0   SALE_ID    5697 non-null   object \n",
      " 1   SALE_DATE  5697 non-null   object \n",
      " 2   COUNTRY    5697 non-null   object \n",
      " 3   CUSTOMER   5697 non-null   object \n",
      " 4   PRODUCT    5697 non-null   object \n",
      " 5   VALUE      5697 non-null   float64\n",
      "dtypes: float64(1), object(5)\n",
      "memory usage: 267.2+ KB\n"
     ]
    }
   ],
   "source": [
    "df.info()"
   ]
  },
  {
   "cell_type": "code",
   "execution_count": 7,
   "metadata": {},
   "outputs": [
    {
     "data": {
      "text/plain": [
       "SALE_ID       object\n",
       "SALE_DATE     object\n",
       "COUNTRY       object\n",
       "CUSTOMER      object\n",
       "PRODUCT       object\n",
       "VALUE        float64\n",
       "dtype: object"
      ]
     },
     "execution_count": 7,
     "metadata": {},
     "output_type": "execute_result"
    }
   ],
   "source": [
    "df.dtypes"
   ]
  },
  {
   "cell_type": "markdown",
   "metadata": {},
   "source": [
    "### 3 - Análise exploratória"
   ]
  },
  {
   "cell_type": "code",
   "execution_count": 8,
   "metadata": {},
   "outputs": [
    {
     "name": "stdout",
     "output_type": "stream",
     "text": [
      "<class 'pandas.core.frame.DataFrame'>\n",
      "RangeIndex: 5697 entries, 0 to 5696\n",
      "Data columns (total 6 columns):\n",
      " #   Column     Non-Null Count  Dtype  \n",
      "---  ------     --------------  -----  \n",
      " 0   SALE_ID    5697 non-null   object \n",
      " 1   SALE_DATE  5697 non-null   object \n",
      " 2   COUNTRY    5697 non-null   object \n",
      " 3   CUSTOMER   5697 non-null   object \n",
      " 4   PRODUCT    5697 non-null   object \n",
      " 5   VALUE      5697 non-null   float64\n",
      "dtypes: float64(1), object(5)\n",
      "memory usage: 267.2+ KB\n"
     ]
    }
   ],
   "source": [
    "df.info()"
   ]
  },
  {
   "cell_type": "code",
   "execution_count": 9,
   "metadata": {},
   "outputs": [
    {
     "data": {
      "text/plain": [
       "'2016-05-25'"
      ]
     },
     "execution_count": 9,
     "metadata": {},
     "output_type": "execute_result"
    }
   ],
   "source": [
    "MIN_DATE = min(df['SALE_DATE'])\n",
    "MIN_DATE"
   ]
  },
  {
   "cell_type": "code",
   "execution_count": 10,
   "metadata": {},
   "outputs": [
    {
     "data": {
      "text/plain": [
       "'2022-01-04'"
      ]
     },
     "execution_count": 10,
     "metadata": {},
     "output_type": "execute_result"
    }
   ],
   "source": [
    "MAX_DATE = max(df['SALE_DATE'])\n",
    "MAX_DATE"
   ]
  },
  {
   "cell_type": "code",
   "execution_count": 11,
   "metadata": {},
   "outputs": [
    {
     "data": {
      "text/html": [
       "<div>\n",
       "<style scoped>\n",
       "    .dataframe tbody tr th:only-of-type {\n",
       "        vertical-align: middle;\n",
       "    }\n",
       "\n",
       "    .dataframe tbody tr th {\n",
       "        vertical-align: top;\n",
       "    }\n",
       "\n",
       "    .dataframe thead th {\n",
       "        text-align: right;\n",
       "    }\n",
       "</style>\n",
       "<table border=\"1\" class=\"dataframe\">\n",
       "  <thead>\n",
       "    <tr style=\"text-align: right;\">\n",
       "      <th></th>\n",
       "      <th>index</th>\n",
       "      <th>COUNTRY</th>\n",
       "      <th>Total</th>\n",
       "      <th>Percentage</th>\n",
       "    </tr>\n",
       "  </thead>\n",
       "  <tbody>\n",
       "    <tr>\n",
       "      <th>0</th>\n",
       "      <td>Rest of Europe</td>\n",
       "      <td>4975</td>\n",
       "      <td>5697</td>\n",
       "      <td>87.33</td>\n",
       "    </tr>\n",
       "    <tr>\n",
       "      <th>1</th>\n",
       "      <td>UK</td>\n",
       "      <td>722</td>\n",
       "      <td>5697</td>\n",
       "      <td>12.67</td>\n",
       "    </tr>\n",
       "  </tbody>\n",
       "</table>\n",
       "</div>"
      ],
      "text/plain": [
       "            index  COUNTRY  Total  Percentage\n",
       "0  Rest of Europe     4975   5697       87.33\n",
       "1              UK      722   5697       12.67"
      ]
     },
     "execution_count": 11,
     "metadata": {},
     "output_type": "execute_result"
    },
    {
     "data": {
      "image/png": "[encoded data removed]",
      "text/plain": [
       "<Figure size 432x288 with 1 Axes>"
      ]
     },
     "metadata": {
      "needs_background": "light"
     },
     "output_type": "display_data"
    }
   ],
   "source": [
    "sns.countplot (\"COUNTRY\", data=df, alpha=0.8, palette=\"Greens_d\")\n",
    "\n",
    "QTY_COUNTRY = pd.DataFrame(df[\"COUNTRY\"].value_counts()).reset_index()\n",
    "QTY_COUNTRY\n",
    "\n",
    "#percentage\n",
    "QTY_COUNTRY['Total'] = QTY_COUNTRY['COUNTRY'].sum()\n",
    "QTY_COUNTRY['Percentage'] =round(((QTY_COUNTRY['COUNTRY']/QTY_COUNTRY['Total'])*100),2)\n",
    "QTY_COUNTRY"
   ]
  },
  {
   "cell_type": "code",
   "execution_count": 12,
   "metadata": {},
   "outputs": [
    {
     "data": {
      "text/html": [
       "<div>\n",
       "<style scoped>\n",
       "    .dataframe tbody tr th:only-of-type {\n",
       "        vertical-align: middle;\n",
       "    }\n",
       "\n",
       "    .dataframe tbody tr th {\n",
       "        vertical-align: top;\n",
       "    }\n",
       "\n",
       "    .dataframe thead th {\n",
       "        text-align: right;\n",
       "    }\n",
       "</style>\n",
       "<table border=\"1\" class=\"dataframe\">\n",
       "  <thead>\n",
       "    <tr style=\"text-align: right;\">\n",
       "      <th></th>\n",
       "      <th>CUSTOMER</th>\n",
       "    </tr>\n",
       "  </thead>\n",
       "  <tbody>\n",
       "    <tr>\n",
       "      <th>BP</th>\n",
       "      <td>66</td>\n",
       "    </tr>\n",
       "    <tr>\n",
       "      <th>LIVERPOOL HOSPITAL</th>\n",
       "      <td>41</td>\n",
       "    </tr>\n",
       "    <tr>\n",
       "      <th>VODAFONE</th>\n",
       "      <td>36</td>\n",
       "    </tr>\n",
       "    <tr>\n",
       "      <th>GLASGOW BANK</th>\n",
       "      <td>33</td>\n",
       "    </tr>\n",
       "    <tr>\n",
       "      <th>ANGLO AMERICAN</th>\n",
       "      <td>33</td>\n",
       "    </tr>\n",
       "    <tr>\n",
       "      <th>GLAXOSMITHKLINE</th>\n",
       "      <td>28</td>\n",
       "    </tr>\n",
       "    <tr>\n",
       "      <th>RECKITT BENCKISER</th>\n",
       "      <td>25</td>\n",
       "    </tr>\n",
       "    <tr>\n",
       "      <th>BRITISH FOODS</th>\n",
       "      <td>23</td>\n",
       "    </tr>\n",
       "    <tr>\n",
       "      <th>YORK BUSINESS CENTER</th>\n",
       "      <td>17</td>\n",
       "    </tr>\n",
       "    <tr>\n",
       "      <th>UNILEVER</th>\n",
       "      <td>16</td>\n",
       "    </tr>\n",
       "  </tbody>\n",
       "</table>\n",
       "</div>"
      ],
      "text/plain": [
       "                      CUSTOMER\n",
       "BP                          66\n",
       "LIVERPOOL HOSPITAL          41\n",
       "VODAFONE                    36\n",
       "GLASGOW BANK                33\n",
       "ANGLO AMERICAN              33\n",
       "GLAXOSMITHKLINE             28\n",
       "RECKITT BENCKISER           25\n",
       "BRITISH FOODS               23\n",
       "YORK BUSINESS CENTER        17\n",
       "UNILEVER                    16"
      ]
     },
     "execution_count": 12,
     "metadata": {},
     "output_type": "execute_result"
    },
    {
     "data": {
      "image/png": "[encoded data removed]",
      "text/plain": [
       "<Figure size 1872x648 with 1 Axes>"
      ]
     },
     "metadata": {
      "needs_background": "light"
     },
     "output_type": "display_data"
    }
   ],
   "source": [
    "df = df.query(\"COUNTRY=='UK'\").reset_index(drop=True)\n",
    "\n",
    "plt.figure(figsize=(26,9))\n",
    "sns.countplot (\"CUSTOMER\", data=df, alpha=0.8, palette=\"Greens_r\", order=df.CUSTOMER.value_counts().iloc[:10].index)\n",
    "QTY_CUSTOMER = pd.DataFrame(df[\"CUSTOMER\"].value_counts())\n",
    "QTY_CUSTOMER.head(10)"
   ]
  },
  {
   "cell_type": "code",
   "execution_count": 13,
   "metadata": {},
   "outputs": [],
   "source": [
    "sorted_df = df.sort_values(by=['VALUE'], ascending=False)"
   ]
  },
  {
   "cell_type": "code",
   "execution_count": 14,
   "metadata": {},
   "outputs": [],
   "source": [
    "sorted_df = sorted_df.head(5)"
   ]
  },
  {
   "cell_type": "code",
   "execution_count": 15,
   "metadata": {},
   "outputs": [
    {
     "data": {
      "text/html": [
       "<div>\n",
       "<style scoped>\n",
       "    .dataframe tbody tr th:only-of-type {\n",
       "        vertical-align: middle;\n",
       "    }\n",
       "\n",
       "    .dataframe tbody tr th {\n",
       "        vertical-align: top;\n",
       "    }\n",
       "\n",
       "    .dataframe thead th {\n",
       "        text-align: right;\n",
       "    }\n",
       "</style>\n",
       "<table border=\"1\" class=\"dataframe\">\n",
       "  <thead>\n",
       "    <tr style=\"text-align: right;\">\n",
       "      <th></th>\n",
       "      <th>CUSTOMER</th>\n",
       "      <th>VALUE</th>\n",
       "    </tr>\n",
       "  </thead>\n",
       "  <tbody>\n",
       "    <tr>\n",
       "      <th>379</th>\n",
       "      <td>BRITISH AMERICAN TABACCO</td>\n",
       "      <td>3416000.0</td>\n",
       "    </tr>\n",
       "    <tr>\n",
       "      <th>236</th>\n",
       "      <td>ASTRAZENECA</td>\n",
       "      <td>1580000.0</td>\n",
       "    </tr>\n",
       "    <tr>\n",
       "      <th>266</th>\n",
       "      <td>AVALON DRINKS</td>\n",
       "      <td>1040000.0</td>\n",
       "    </tr>\n",
       "    <tr>\n",
       "      <th>655</th>\n",
       "      <td>GLAXOSMITHKLINE</td>\n",
       "      <td>960000.0</td>\n",
       "    </tr>\n",
       "    <tr>\n",
       "      <th>566</th>\n",
       "      <td>BARCLAYS</td>\n",
       "      <td>800000.0</td>\n",
       "    </tr>\n",
       "  </tbody>\n",
       "</table>\n",
       "</div>"
      ],
      "text/plain": [
       "                     CUSTOMER      VALUE\n",
       "379  BRITISH AMERICAN TABACCO  3416000.0\n",
       "236               ASTRAZENECA  1580000.0\n",
       "266             AVALON DRINKS  1040000.0\n",
       "655           GLAXOSMITHKLINE   960000.0\n",
       "566                  BARCLAYS   800000.0"
      ]
     },
     "execution_count": 15,
     "metadata": {},
     "output_type": "execute_result"
    },
    {
     "data": {
      "image/png": "[encoded data removed]",
      "text/plain": [
       "<Figure size 1080x360 with 1 Axes>"
      ]
     },
     "metadata": {
      "needs_background": "light"
     },
     "output_type": "display_data"
    }
   ],
   "source": [
    "plt.figure(figsize=(15,5))\n",
    "QTY_CUSTOMER = sorted_df[[\"CUSTOMER\",\"VALUE\"]]\n",
    "sns.barplot (x=\"CUSTOMER\", y=\"VALUE\", data=QTY_CUSTOMER, alpha=0.8, palette=\"Greens_d\", )\n",
    "\n",
    "QTY_CUSTOMER.head(5)"
   ]
  },
  {
   "cell_type": "markdown",
   "metadata": {},
   "source": [
    "### 4 - Data wrangling and RFM"
   ]
  },
  {
   "cell_type": "code",
   "execution_count": 16,
   "metadata": {},
   "outputs": [],
   "source": [
    "df = df.rename(columns={'SALE_DATE': 'DATE'}) # rename column"
   ]
  },
  {
   "cell_type": "code",
   "execution_count": 17,
   "metadata": {},
   "outputs": [],
   "source": [
    "df = df.query(\"COUNTRY=='UK'\").reset_index(drop=True)\n",
    "df = df.query(\"PRODUCT=='TECH'\").reset_index(drop=True)\n",
    "df_UK_TECH_region = df"
   ]
  },
  {
   "cell_type": "markdown",
   "metadata": {},
   "source": [
    "### 4. 1 Recency"
   ]
  },
  {
   "cell_type": "code",
   "execution_count": 18,
   "metadata": {},
   "outputs": [],
   "source": [
    "UK_TECH_region_group = pd.DataFrame(df_UK_TECH_region['CUSTOMER'].unique()) # unique to group\n",
    "UK_TECH_region_group.columns = ['CUSTOMER']"
   ]
  },
  {
   "cell_type": "code",
   "execution_count": 19,
   "metadata": {},
   "outputs": [],
   "source": [
    " import datetime as datetime\n",
    "today = datetime.date.today()\n",
    "one_year_ago = today-datetime.timedelta(days=365)\n",
    "two_year_ago = today-datetime.timedelta(days=730)"
   ]
  },
  {
   "cell_type": "code",
   "execution_count": 20,
   "metadata": {},
   "outputs": [],
   "source": [
    "UK_TECH_xreg_max_purchase = df_UK_TECH_region.groupby('CUSTOMER').DATE.max().reset_index()\n",
    "UK_TECH_xreg_max_purchase.columns = ['CUSTOMER','MaxPurchaseDate']"
   ]
  },
  {
   "cell_type": "code",
   "execution_count": 21,
   "metadata": {},
   "outputs": [
    {
     "data": {
      "text/plain": [
       "dtype('O')"
      ]
     },
     "execution_count": 21,
     "metadata": {},
     "output_type": "execute_result"
    }
   ],
   "source": [
    "UK_TECH_xreg_max_purchase['MaxPurchaseDate'].dtype"
   ]
  },
  {
   "cell_type": "code",
   "execution_count": 22,
   "metadata": {},
   "outputs": [],
   "source": [
    "UK_TECH_xreg_max_purchase['MaxPurchaseDate'] = pd.to_datetime(UK_TECH_xreg_max_purchase['MaxPurchaseDate']).dt.date #max date"
   ]
  },
  {
   "cell_type": "code",
   "execution_count": 23,
   "metadata": {},
   "outputs": [
    {
     "data": {
      "text/html": [
       "<div>\n",
       "<style scoped>\n",
       "    .dataframe tbody tr th:only-of-type {\n",
       "        vertical-align: middle;\n",
       "    }\n",
       "\n",
       "    .dataframe tbody tr th {\n",
       "        vertical-align: top;\n",
       "    }\n",
       "\n",
       "    .dataframe thead th {\n",
       "        text-align: right;\n",
       "    }\n",
       "</style>\n",
       "<table border=\"1\" class=\"dataframe\">\n",
       "  <thead>\n",
       "    <tr style=\"text-align: right;\">\n",
       "      <th></th>\n",
       "      <th>CUSTOMER</th>\n",
       "      <th>MaxPurchaseDate</th>\n",
       "      <th>Recency</th>\n",
       "    </tr>\n",
       "  </thead>\n",
       "  <tbody>\n",
       "    <tr>\n",
       "      <th>0</th>\n",
       "      <td>AGRI COMPANY</td>\n",
       "      <td>2019-04-30</td>\n",
       "      <td>1011</td>\n",
       "    </tr>\n",
       "    <tr>\n",
       "      <th>1</th>\n",
       "      <td>AI ERAZON</td>\n",
       "      <td>2021-05-14</td>\n",
       "      <td>266</td>\n",
       "    </tr>\n",
       "    <tr>\n",
       "      <th>2</th>\n",
       "      <td>AMAZON TABACCO</td>\n",
       "      <td>2020-12-15</td>\n",
       "      <td>416</td>\n",
       "    </tr>\n",
       "    <tr>\n",
       "      <th>3</th>\n",
       "      <td>AMERICAN PHARMA</td>\n",
       "      <td>2020-02-20</td>\n",
       "      <td>715</td>\n",
       "    </tr>\n",
       "    <tr>\n",
       "      <th>4</th>\n",
       "      <td>ANGLO AMERICAN</td>\n",
       "      <td>2020-05-30</td>\n",
       "      <td>615</td>\n",
       "    </tr>\n",
       "  </tbody>\n",
       "</table>\n",
       "</div>"
      ],
      "text/plain": [
       "          CUSTOMER MaxPurchaseDate  Recency\n",
       "0     AGRI COMPANY      2019-04-30     1011\n",
       "1        AI ERAZON      2021-05-14      266\n",
       "2   AMAZON TABACCO      2020-12-15      416\n",
       "3  AMERICAN PHARMA      2020-02-20      715\n",
       "4   ANGLO AMERICAN      2020-05-30      615"
      ]
     },
     "execution_count": 23,
     "metadata": {},
     "output_type": "execute_result"
    }
   ],
   "source": [
    "UK_TECH_xreg_max_purchase['Recency'] = (today - UK_TECH_xreg_max_purchase['MaxPurchaseDate']).dt.days\n",
    "UK_TECH_xreg_max_purchase.head()"
   ]
  },
  {
   "cell_type": "code",
   "execution_count": 24,
   "metadata": {},
   "outputs": [],
   "source": [
    "# replacing with 0 case future recency\n",
    "UK_TECH_xreg_max_purchase['Recency'] = np.where((UK_TECH_xreg_max_purchase.Recency < 0), 0,UK_TECH_xreg_max_purchase['Recency'])"
   ]
  },
  {
   "cell_type": "code",
   "execution_count": 25,
   "metadata": {},
   "outputs": [],
   "source": [
    "#merge this dataframe to our new user dataframe\n",
    "UK_TECH_region_group = pd.merge(UK_TECH_region_group, UK_TECH_xreg_max_purchase[['CUSTOMER','Recency']], on='CUSTOMER')"
   ]
  },
  {
   "cell_type": "code",
   "execution_count": 26,
   "metadata": {},
   "outputs": [
    {
     "data": {
      "image/png": "[encoded data removed]",
      "text/plain": [
       "<Figure size 432x288 with 1 Axes>"
      ]
     },
     "metadata": {
      "needs_background": "light"
     },
     "output_type": "display_data"
    }
   ],
   "source": [
    "from sklearn.cluster import KMeans\n",
    "\n",
    "sse={} # error\n",
    "UK_TECH_xreg_recency = UK_TECH_region_group[['Recency']]\n",
    "for k in range(1, 10):\n",
    "    kmeans = KMeans(n_clusters=k, max_iter=1000).fit(UK_TECH_xreg_recency)\n",
    "    UK_TECH_xreg_recency[\"clusters\"] = kmeans.labels_  #cluster names corresponding to recency values \n",
    "    sse[k] = kmeans.inertia_ #sse corresponding to clusters\n",
    "plt.figure()\n",
    "plt.plot(list(sse.keys()), list(sse.values()))\n",
    "plt.xlabel(\"Number of cluster\")\n",
    "plt.show()"
   ]
  },
  {
   "cell_type": "code",
   "execution_count": 27,
   "metadata": {},
   "outputs": [],
   "source": [
    "kmeans = KMeans(n_clusters=4)\n",
    "UK_TECH_region_group['RecencyCluster'] = kmeans.fit_predict(UK_TECH_region_group[['Recency']])"
   ]
  },
  {
   "cell_type": "code",
   "execution_count": 28,
   "metadata": {},
   "outputs": [
    {
     "data": {
      "text/plain": [
       "3    30\n",
       "1    29\n",
       "0    25\n",
       "2    23\n",
       "Name: RecencyCluster, dtype: int64"
      ]
     },
     "execution_count": 28,
     "metadata": {},
     "output_type": "execute_result"
    }
   ],
   "source": [
    "UK_TECH_region_group['RecencyCluster'].value_counts()"
   ]
  },
  {
   "cell_type": "code",
   "execution_count": 29,
   "metadata": {},
   "outputs": [
    {
     "data": {
      "text/html": [
       "<div>\n",
       "<style scoped>\n",
       "    .dataframe tbody tr th:only-of-type {\n",
       "        vertical-align: middle;\n",
       "    }\n",
       "\n",
       "    .dataframe tbody tr th {\n",
       "        vertical-align: top;\n",
       "    }\n",
       "\n",
       "    .dataframe thead th {\n",
       "        text-align: right;\n",
       "    }\n",
       "</style>\n",
       "<table border=\"1\" class=\"dataframe\">\n",
       "  <thead>\n",
       "    <tr style=\"text-align: right;\">\n",
       "      <th></th>\n",
       "      <th>count</th>\n",
       "      <th>mean</th>\n",
       "      <th>std</th>\n",
       "      <th>min</th>\n",
       "      <th>25%</th>\n",
       "      <th>50%</th>\n",
       "      <th>75%</th>\n",
       "      <th>max</th>\n",
       "    </tr>\n",
       "    <tr>\n",
       "      <th>RecencyCluster</th>\n",
       "      <th></th>\n",
       "      <th></th>\n",
       "      <th></th>\n",
       "      <th></th>\n",
       "      <th></th>\n",
       "      <th></th>\n",
       "      <th></th>\n",
       "      <th></th>\n",
       "    </tr>\n",
       "  </thead>\n",
       "  <tbody>\n",
       "    <tr>\n",
       "      <th>0</th>\n",
       "      <td>25.0</td>\n",
       "      <td>974.360000</td>\n",
       "      <td>115.442222</td>\n",
       "      <td>795.0</td>\n",
       "      <td>893.00</td>\n",
       "      <td>982.0</td>\n",
       "      <td>1032.00</td>\n",
       "      <td>1255.0</td>\n",
       "    </tr>\n",
       "    <tr>\n",
       "      <th>1</th>\n",
       "      <td>29.0</td>\n",
       "      <td>195.896552</td>\n",
       "      <td>118.361234</td>\n",
       "      <td>36.0</td>\n",
       "      <td>70.00</td>\n",
       "      <td>179.0</td>\n",
       "      <td>283.00</td>\n",
       "      <td>387.0</td>\n",
       "    </tr>\n",
       "    <tr>\n",
       "      <th>2</th>\n",
       "      <td>23.0</td>\n",
       "      <td>1651.217391</td>\n",
       "      <td>205.816546</td>\n",
       "      <td>1345.0</td>\n",
       "      <td>1519.50</td>\n",
       "      <td>1596.0</td>\n",
       "      <td>1748.00</td>\n",
       "      <td>2065.0</td>\n",
       "    </tr>\n",
       "    <tr>\n",
       "      <th>3</th>\n",
       "      <td>30.0</td>\n",
       "      <td>588.333333</td>\n",
       "      <td>108.212222</td>\n",
       "      <td>416.0</td>\n",
       "      <td>505.75</td>\n",
       "      <td>614.5</td>\n",
       "      <td>697.25</td>\n",
       "      <td>759.0</td>\n",
       "    </tr>\n",
       "  </tbody>\n",
       "</table>\n",
       "</div>"
      ],
      "text/plain": [
       "                count         mean         std     min      25%     50%  \\\n",
       "RecencyCluster                                                            \n",
       "0                25.0   974.360000  115.442222   795.0   893.00   982.0   \n",
       "1                29.0   195.896552  118.361234    36.0    70.00   179.0   \n",
       "2                23.0  1651.217391  205.816546  1345.0  1519.50  1596.0   \n",
       "3                30.0   588.333333  108.212222   416.0   505.75   614.5   \n",
       "\n",
       "                    75%     max  \n",
       "RecencyCluster                   \n",
       "0               1032.00  1255.0  \n",
       "1                283.00   387.0  \n",
       "2               1748.00  2065.0  \n",
       "3                697.25   759.0  "
      ]
     },
     "execution_count": 29,
     "metadata": {},
     "output_type": "execute_result"
    }
   ],
   "source": [
    "UK_TECH_region_group.groupby('RecencyCluster')['Recency'].describe()"
   ]
  },
  {
   "cell_type": "code",
   "execution_count": 30,
   "metadata": {},
   "outputs": [],
   "source": [
    "#function for ordering cluster numbers\n",
    "def order_cluster(cluster_field_name, target_field_name,df,ascending):\n",
    "    new_cluster_field_name = 'new_' + cluster_field_name\n",
    "    df_new = df.groupby(cluster_field_name)[target_field_name].mean().reset_index()\n",
    "    df_new = df_new.sort_values(by=target_field_name,ascending=ascending).reset_index(drop=True)\n",
    "    df_new['index'] = df_new.index\n",
    "    df_final = pd.merge(df,df_new[[cluster_field_name,'index']], on=cluster_field_name)\n",
    "    df_final = df_final.drop([cluster_field_name],axis=1)\n",
    "    df_final = df_final.rename(columns={\"index\":cluster_field_name})\n",
    "    return df_final\n",
    "\n",
    "UK_TECH_region_group = order_cluster('RecencyCluster', 'Recency',UK_TECH_region_group,False)"
   ]
  },
  {
   "cell_type": "code",
   "execution_count": 31,
   "metadata": {},
   "outputs": [
    {
     "data": {
      "text/html": [
       "<div>\n",
       "<style scoped>\n",
       "    .dataframe tbody tr th:only-of-type {\n",
       "        vertical-align: middle;\n",
       "    }\n",
       "\n",
       "    .dataframe tbody tr th {\n",
       "        vertical-align: top;\n",
       "    }\n",
       "\n",
       "    .dataframe thead th {\n",
       "        text-align: right;\n",
       "    }\n",
       "</style>\n",
       "<table border=\"1\" class=\"dataframe\">\n",
       "  <thead>\n",
       "    <tr style=\"text-align: right;\">\n",
       "      <th></th>\n",
       "      <th>count</th>\n",
       "      <th>mean</th>\n",
       "      <th>std</th>\n",
       "      <th>min</th>\n",
       "      <th>25%</th>\n",
       "      <th>50%</th>\n",
       "      <th>75%</th>\n",
       "      <th>max</th>\n",
       "    </tr>\n",
       "    <tr>\n",
       "      <th>RecencyCluster</th>\n",
       "      <th></th>\n",
       "      <th></th>\n",
       "      <th></th>\n",
       "      <th></th>\n",
       "      <th></th>\n",
       "      <th></th>\n",
       "      <th></th>\n",
       "      <th></th>\n",
       "    </tr>\n",
       "  </thead>\n",
       "  <tbody>\n",
       "    <tr>\n",
       "      <th>0</th>\n",
       "      <td>23.0</td>\n",
       "      <td>1651.217391</td>\n",
       "      <td>205.816546</td>\n",
       "      <td>1345.0</td>\n",
       "      <td>1519.50</td>\n",
       "      <td>1596.0</td>\n",
       "      <td>1748.00</td>\n",
       "      <td>2065.0</td>\n",
       "    </tr>\n",
       "    <tr>\n",
       "      <th>1</th>\n",
       "      <td>25.0</td>\n",
       "      <td>974.360000</td>\n",
       "      <td>115.442222</td>\n",
       "      <td>795.0</td>\n",
       "      <td>893.00</td>\n",
       "      <td>982.0</td>\n",
       "      <td>1032.00</td>\n",
       "      <td>1255.0</td>\n",
       "    </tr>\n",
       "    <tr>\n",
       "      <th>2</th>\n",
       "      <td>30.0</td>\n",
       "      <td>588.333333</td>\n",
       "      <td>108.212222</td>\n",
       "      <td>416.0</td>\n",
       "      <td>505.75</td>\n",
       "      <td>614.5</td>\n",
       "      <td>697.25</td>\n",
       "      <td>759.0</td>\n",
       "    </tr>\n",
       "    <tr>\n",
       "      <th>3</th>\n",
       "      <td>29.0</td>\n",
       "      <td>195.896552</td>\n",
       "      <td>118.361234</td>\n",
       "      <td>36.0</td>\n",
       "      <td>70.00</td>\n",
       "      <td>179.0</td>\n",
       "      <td>283.00</td>\n",
       "      <td>387.0</td>\n",
       "    </tr>\n",
       "  </tbody>\n",
       "</table>\n",
       "</div>"
      ],
      "text/plain": [
       "                count         mean         std     min      25%     50%  \\\n",
       "RecencyCluster                                                            \n",
       "0                23.0  1651.217391  205.816546  1345.0  1519.50  1596.0   \n",
       "1                25.0   974.360000  115.442222   795.0   893.00   982.0   \n",
       "2                30.0   588.333333  108.212222   416.0   505.75   614.5   \n",
       "3                29.0   195.896552  118.361234    36.0    70.00   179.0   \n",
       "\n",
       "                    75%     max  \n",
       "RecencyCluster                   \n",
       "0               1748.00  2065.0  \n",
       "1               1032.00  1255.0  \n",
       "2                697.25   759.0  \n",
       "3                283.00   387.0  "
      ]
     },
     "execution_count": 31,
     "metadata": {},
     "output_type": "execute_result"
    }
   ],
   "source": [
    "UK_TECH_region_group.groupby('RecencyCluster')['Recency'].describe()"
   ]
  },
  {
   "cell_type": "markdown",
   "metadata": {},
   "source": [
    "### 4.2 Frequency"
   ]
  },
  {
   "cell_type": "code",
   "execution_count": 32,
   "metadata": {},
   "outputs": [],
   "source": [
    "UK_TECH_xreg_frequency = df_UK_TECH_region.groupby('CUSTOMER').SALE_ID.nunique().reset_index()\n",
    "UK_TECH_xreg_frequency.columns = ['CUSTOMER','Frequency']"
   ]
  },
  {
   "cell_type": "code",
   "execution_count": 33,
   "metadata": {},
   "outputs": [
    {
     "data": {
      "text/html": [
       "<div>\n",
       "<style scoped>\n",
       "    .dataframe tbody tr th:only-of-type {\n",
       "        vertical-align: middle;\n",
       "    }\n",
       "\n",
       "    .dataframe tbody tr th {\n",
       "        vertical-align: top;\n",
       "    }\n",
       "\n",
       "    .dataframe thead th {\n",
       "        text-align: right;\n",
       "    }\n",
       "</style>\n",
       "<table border=\"1\" class=\"dataframe\">\n",
       "  <thead>\n",
       "    <tr style=\"text-align: right;\">\n",
       "      <th></th>\n",
       "      <th>CUSTOMER</th>\n",
       "      <th>Recency</th>\n",
       "      <th>RecencyCluster</th>\n",
       "      <th>Frequency</th>\n",
       "    </tr>\n",
       "  </thead>\n",
       "  <tbody>\n",
       "    <tr>\n",
       "      <th>0</th>\n",
       "      <td>AGRI COMPANY</td>\n",
       "      <td>1011</td>\n",
       "      <td>1</td>\n",
       "      <td>2</td>\n",
       "    </tr>\n",
       "    <tr>\n",
       "      <th>1</th>\n",
       "      <td>LONDON COMMUNICATIONS</td>\n",
       "      <td>1162</td>\n",
       "      <td>1</td>\n",
       "      <td>1</td>\n",
       "    </tr>\n",
       "    <tr>\n",
       "      <th>2</th>\n",
       "      <td>INDUSTRIAL HOUSE</td>\n",
       "      <td>1038</td>\n",
       "      <td>1</td>\n",
       "      <td>1</td>\n",
       "    </tr>\n",
       "    <tr>\n",
       "      <th>3</th>\n",
       "      <td>VODAFONE</td>\n",
       "      <td>798</td>\n",
       "      <td>1</td>\n",
       "      <td>10</td>\n",
       "    </tr>\n",
       "    <tr>\n",
       "      <th>4</th>\n",
       "      <td>PORSMOUTH MINING</td>\n",
       "      <td>1129</td>\n",
       "      <td>1</td>\n",
       "      <td>2</td>\n",
       "    </tr>\n",
       "  </tbody>\n",
       "</table>\n",
       "</div>"
      ],
      "text/plain": [
       "                CUSTOMER  Recency  RecencyCluster  Frequency\n",
       "0           AGRI COMPANY     1011               1          2\n",
       "1  LONDON COMMUNICATIONS     1162               1          1\n",
       "2       INDUSTRIAL HOUSE     1038               1          1\n",
       "3               VODAFONE      798               1         10\n",
       "4       PORSMOUTH MINING     1129               1          2"
      ]
     },
     "execution_count": 33,
     "metadata": {},
     "output_type": "execute_result"
    }
   ],
   "source": [
    "UK_TECH_region_group = pd.merge(UK_TECH_region_group, UK_TECH_xreg_frequency, on='CUSTOMER')\n",
    "UK_TECH_region_group.head()"
   ]
  },
  {
   "cell_type": "code",
   "execution_count": 34,
   "metadata": {},
   "outputs": [
    {
     "data": {
      "image/png": "[encoded data removed]",
      "text/plain": [
       "<Figure size 432x288 with 1 Axes>"
      ]
     },
     "metadata": {
      "needs_background": "light"
     },
     "output_type": "display_data"
    }
   ],
   "source": [
    "from sklearn.cluster import KMeans\n",
    "\n",
    "sse={} # error\n",
    "UK_TECH_xreg_recency = UK_TECH_region_group[['Frequency']]\n",
    "for k in range(1, 10):\n",
    "    kmeans = KMeans(n_clusters=k, max_iter=1000).fit(UK_TECH_xreg_recency)\n",
    "    UK_TECH_xreg_recency[\"clusters\"] = kmeans.labels_  #cluster names corresponding to recency values \n",
    "    sse[k] = kmeans.inertia_ #sse corresponding to clusters\n",
    "plt.figure()\n",
    "plt.plot(list(sse.keys()), list(sse.values()))\n",
    "plt.xlabel(\"Number of cluster\")\n",
    "plt.show()"
   ]
  },
  {
   "cell_type": "code",
   "execution_count": 35,
   "metadata": {},
   "outputs": [
    {
     "data": {
      "text/html": [
       "<div>\n",
       "<style scoped>\n",
       "    .dataframe tbody tr th:only-of-type {\n",
       "        vertical-align: middle;\n",
       "    }\n",
       "\n",
       "    .dataframe tbody tr th {\n",
       "        vertical-align: top;\n",
       "    }\n",
       "\n",
       "    .dataframe thead th {\n",
       "        text-align: right;\n",
       "    }\n",
       "</style>\n",
       "<table border=\"1\" class=\"dataframe\">\n",
       "  <thead>\n",
       "    <tr style=\"text-align: right;\">\n",
       "      <th></th>\n",
       "      <th>count</th>\n",
       "      <th>mean</th>\n",
       "      <th>std</th>\n",
       "      <th>min</th>\n",
       "      <th>25%</th>\n",
       "      <th>50%</th>\n",
       "      <th>75%</th>\n",
       "      <th>max</th>\n",
       "    </tr>\n",
       "    <tr>\n",
       "      <th>FrequencyCluster</th>\n",
       "      <th></th>\n",
       "      <th></th>\n",
       "      <th></th>\n",
       "      <th></th>\n",
       "      <th></th>\n",
       "      <th></th>\n",
       "      <th></th>\n",
       "      <th></th>\n",
       "    </tr>\n",
       "  </thead>\n",
       "  <tbody>\n",
       "    <tr>\n",
       "      <th>0</th>\n",
       "      <td>40.0</td>\n",
       "      <td>1.000000</td>\n",
       "      <td>0.000000</td>\n",
       "      <td>1.0</td>\n",
       "      <td>1.00</td>\n",
       "      <td>1.0</td>\n",
       "      <td>1.00</td>\n",
       "      <td>1.0</td>\n",
       "    </tr>\n",
       "    <tr>\n",
       "      <th>1</th>\n",
       "      <td>36.0</td>\n",
       "      <td>2.388889</td>\n",
       "      <td>0.494413</td>\n",
       "      <td>2.0</td>\n",
       "      <td>2.00</td>\n",
       "      <td>2.0</td>\n",
       "      <td>3.00</td>\n",
       "      <td>3.0</td>\n",
       "    </tr>\n",
       "    <tr>\n",
       "      <th>2</th>\n",
       "      <td>18.0</td>\n",
       "      <td>4.444444</td>\n",
       "      <td>0.615699</td>\n",
       "      <td>4.0</td>\n",
       "      <td>4.00</td>\n",
       "      <td>4.0</td>\n",
       "      <td>5.00</td>\n",
       "      <td>6.0</td>\n",
       "    </tr>\n",
       "    <tr>\n",
       "      <th>3</th>\n",
       "      <td>9.0</td>\n",
       "      <td>8.444444</td>\n",
       "      <td>1.130388</td>\n",
       "      <td>7.0</td>\n",
       "      <td>8.00</td>\n",
       "      <td>8.0</td>\n",
       "      <td>9.00</td>\n",
       "      <td>10.0</td>\n",
       "    </tr>\n",
       "    <tr>\n",
       "      <th>4</th>\n",
       "      <td>4.0</td>\n",
       "      <td>13.000000</td>\n",
       "      <td>0.816497</td>\n",
       "      <td>12.0</td>\n",
       "      <td>12.75</td>\n",
       "      <td>13.0</td>\n",
       "      <td>13.25</td>\n",
       "      <td>14.0</td>\n",
       "    </tr>\n",
       "  </tbody>\n",
       "</table>\n",
       "</div>"
      ],
      "text/plain": [
       "                  count       mean       std   min    25%   50%    75%   max\n",
       "FrequencyCluster                                                            \n",
       "0                  40.0   1.000000  0.000000   1.0   1.00   1.0   1.00   1.0\n",
       "1                  36.0   2.388889  0.494413   2.0   2.00   2.0   3.00   3.0\n",
       "2                  18.0   4.444444  0.615699   4.0   4.00   4.0   5.00   6.0\n",
       "3                   9.0   8.444444  1.130388   7.0   8.00   8.0   9.00  10.0\n",
       "4                   4.0  13.000000  0.816497  12.0  12.75  13.0  13.25  14.0"
      ]
     },
     "execution_count": 35,
     "metadata": {},
     "output_type": "execute_result"
    }
   ],
   "source": [
    "# Applying k-Means\n",
    "kmeans=KMeans(n_clusters=5)\n",
    "UK_TECH_region_group['FrequencyCluster']=kmeans.fit_predict(UK_TECH_region_group[['Frequency']])\n",
    "\n",
    "#order the frequency cluster\n",
    "UK_TECH_region_group = order_cluster('FrequencyCluster', 'Frequency', UK_TECH_region_group, True )\n",
    "UK_TECH_region_group.groupby('FrequencyCluster')['Frequency'].describe()"
   ]
  },
  {
   "cell_type": "markdown",
   "metadata": {},
   "source": [
    "### 4.3 Revenue"
   ]
  },
  {
   "cell_type": "code",
   "execution_count": 36,
   "metadata": {},
   "outputs": [],
   "source": [
    "df_UK_TECH_region['REVENUE'] = df_UK_TECH_region['VALUE']\n",
    "UK_TECH_xreg_revenue = df_UK_TECH_region.groupby('CUSTOMER').REVENUE.sum().reset_index()"
   ]
  },
  {
   "cell_type": "code",
   "execution_count": 37,
   "metadata": {},
   "outputs": [
    {
     "data": {
      "text/html": [
       "<div>\n",
       "<style scoped>\n",
       "    .dataframe tbody tr th:only-of-type {\n",
       "        vertical-align: middle;\n",
       "    }\n",
       "\n",
       "    .dataframe tbody tr th {\n",
       "        vertical-align: top;\n",
       "    }\n",
       "\n",
       "    .dataframe thead th {\n",
       "        text-align: right;\n",
       "    }\n",
       "</style>\n",
       "<table border=\"1\" class=\"dataframe\">\n",
       "  <thead>\n",
       "    <tr style=\"text-align: right;\">\n",
       "      <th></th>\n",
       "      <th>CUSTOMER</th>\n",
       "      <th>Recency</th>\n",
       "      <th>RecencyCluster</th>\n",
       "      <th>Frequency</th>\n",
       "      <th>FrequencyCluster</th>\n",
       "      <th>REVENUE</th>\n",
       "    </tr>\n",
       "  </thead>\n",
       "  <tbody>\n",
       "    <tr>\n",
       "      <th>0</th>\n",
       "      <td>AGRI COMPANY</td>\n",
       "      <td>1011</td>\n",
       "      <td>1</td>\n",
       "      <td>2</td>\n",
       "      <td>1</td>\n",
       "      <td>17600.00</td>\n",
       "    </tr>\n",
       "    <tr>\n",
       "      <th>1</th>\n",
       "      <td>PORSMOUTH MINING</td>\n",
       "      <td>1129</td>\n",
       "      <td>1</td>\n",
       "      <td>2</td>\n",
       "      <td>1</td>\n",
       "      <td>20592.00</td>\n",
       "    </tr>\n",
       "    <tr>\n",
       "      <th>2</th>\n",
       "      <td>CAMBRIDGE UNIVERSITY</td>\n",
       "      <td>1032</td>\n",
       "      <td>1</td>\n",
       "      <td>2</td>\n",
       "      <td>1</td>\n",
       "      <td>160960.00</td>\n",
       "    </tr>\n",
       "    <tr>\n",
       "      <th>3</th>\n",
       "      <td>LIVERPOOL COMPANY</td>\n",
       "      <td>827</td>\n",
       "      <td>1</td>\n",
       "      <td>3</td>\n",
       "      <td>1</td>\n",
       "      <td>159065.16</td>\n",
       "    </tr>\n",
       "    <tr>\n",
       "      <th>4</th>\n",
       "      <td>AVALON DRINKS</td>\n",
       "      <td>1255</td>\n",
       "      <td>1</td>\n",
       "      <td>2</td>\n",
       "      <td>1</td>\n",
       "      <td>1177600.00</td>\n",
       "    </tr>\n",
       "  </tbody>\n",
       "</table>\n",
       "</div>"
      ],
      "text/plain": [
       "               CUSTOMER  Recency  RecencyCluster  Frequency  FrequencyCluster  \\\n",
       "0          AGRI COMPANY     1011               1          2                 1   \n",
       "1      PORSMOUTH MINING     1129               1          2                 1   \n",
       "2  CAMBRIDGE UNIVERSITY     1032               1          2                 1   \n",
       "3     LIVERPOOL COMPANY      827               1          3                 1   \n",
       "4         AVALON DRINKS     1255               1          2                 1   \n",
       "\n",
       "      REVENUE  \n",
       "0    17600.00  \n",
       "1    20592.00  \n",
       "2   160960.00  \n",
       "3   159065.16  \n",
       "4  1177600.00  "
      ]
     },
     "execution_count": 37,
     "metadata": {},
     "output_type": "execute_result"
    }
   ],
   "source": [
    "UK_TECH_region_group = pd.merge(UK_TECH_region_group, UK_TECH_xreg_revenue, on='CUSTOMER')\n",
    "UK_TECH_region_group.head()"
   ]
  },
  {
   "cell_type": "code",
   "execution_count": 38,
   "metadata": {},
   "outputs": [
    {
     "data": {
      "image/png": "[encoded data removed]",
      "text/plain": [
       "<Figure size 432x288 with 1 Axes>"
      ]
     },
     "metadata": {
      "needs_background": "light"
     },
     "output_type": "display_data"
    }
   ],
   "source": [
    "from sklearn.cluster import KMeans\n",
    "\n",
    "sse={} # error\n",
    "UK_TECH_xreg_recency = UK_TECH_region_group[['REVENUE']]\n",
    "for k in range(1, 10):\n",
    "    kmeans = KMeans(n_clusters=k, max_iter=1000).fit(UK_TECH_xreg_recency)\n",
    "    UK_TECH_xreg_recency[\"clusters\"] = kmeans.labels_  #cluster names corresponding to recency values \n",
    "    sse[k] = kmeans.inertia_ #sse corresponding to clusters\n",
    "plt.figure()\n",
    "plt.plot(list(sse.keys()), list(sse.values()))\n",
    "plt.xlabel(\"Number of cluster\")\n",
    "plt.show()"
   ]
  },
  {
   "cell_type": "code",
   "execution_count": 39,
   "metadata": {},
   "outputs": [
    {
     "data": {
      "text/html": [
       "<div>\n",
       "<style scoped>\n",
       "    .dataframe tbody tr th:only-of-type {\n",
       "        vertical-align: middle;\n",
       "    }\n",
       "\n",
       "    .dataframe tbody tr th {\n",
       "        vertical-align: top;\n",
       "    }\n",
       "\n",
       "    .dataframe thead th {\n",
       "        text-align: right;\n",
       "    }\n",
       "</style>\n",
       "<table border=\"1\" class=\"dataframe\">\n",
       "  <thead>\n",
       "    <tr style=\"text-align: right;\">\n",
       "      <th></th>\n",
       "      <th>count</th>\n",
       "      <th>mean</th>\n",
       "      <th>std</th>\n",
       "      <th>min</th>\n",
       "      <th>25%</th>\n",
       "      <th>50%</th>\n",
       "      <th>75%</th>\n",
       "      <th>max</th>\n",
       "    </tr>\n",
       "    <tr>\n",
       "      <th>RevenueCluster</th>\n",
       "      <th></th>\n",
       "      <th></th>\n",
       "      <th></th>\n",
       "      <th></th>\n",
       "      <th></th>\n",
       "      <th></th>\n",
       "      <th></th>\n",
       "      <th></th>\n",
       "    </tr>\n",
       "  </thead>\n",
       "  <tbody>\n",
       "    <tr>\n",
       "      <th>0</th>\n",
       "      <td>71.0</td>\n",
       "      <td>1.052218e+05</td>\n",
       "      <td>102686.760258</td>\n",
       "      <td>1600.000</td>\n",
       "      <td>24761.600</td>\n",
       "      <td>77600.000</td>\n",
       "      <td>156525.780</td>\n",
       "      <td>425600.000</td>\n",
       "    </tr>\n",
       "    <tr>\n",
       "      <th>1</th>\n",
       "      <td>26.0</td>\n",
       "      <td>7.924078e+05</td>\n",
       "      <td>260305.740855</td>\n",
       "      <td>456000.000</td>\n",
       "      <td>572594.606</td>\n",
       "      <td>809120.356</td>\n",
       "      <td>1036243.506</td>\n",
       "      <td>1302534.792</td>\n",
       "    </tr>\n",
       "    <tr>\n",
       "      <th>2</th>\n",
       "      <td>7.0</td>\n",
       "      <td>2.072736e+06</td>\n",
       "      <td>371917.069170</td>\n",
       "      <td>1453376.544</td>\n",
       "      <td>1921101.752</td>\n",
       "      <td>2070070.384</td>\n",
       "      <td>2261754.616</td>\n",
       "      <td>2619992.568</td>\n",
       "    </tr>\n",
       "    <tr>\n",
       "      <th>3</th>\n",
       "      <td>3.0</td>\n",
       "      <td>3.388171e+06</td>\n",
       "      <td>612041.018331</td>\n",
       "      <td>2970578.480</td>\n",
       "      <td>3036889.240</td>\n",
       "      <td>3103200.000</td>\n",
       "      <td>3596967.592</td>\n",
       "      <td>4090735.184</td>\n",
       "    </tr>\n",
       "  </tbody>\n",
       "</table>\n",
       "</div>"
      ],
      "text/plain": [
       "                count          mean            std          min          25%  \\\n",
       "RevenueCluster                                                                 \n",
       "0                71.0  1.052218e+05  102686.760258     1600.000    24761.600   \n",
       "1                26.0  7.924078e+05  260305.740855   456000.000   572594.606   \n",
       "2                 7.0  2.072736e+06  371917.069170  1453376.544  1921101.752   \n",
       "3                 3.0  3.388171e+06  612041.018331  2970578.480  3036889.240   \n",
       "\n",
       "                        50%          75%          max  \n",
       "RevenueCluster                                         \n",
       "0                 77600.000   156525.780   425600.000  \n",
       "1                809120.356  1036243.506  1302534.792  \n",
       "2               2070070.384  2261754.616  2619992.568  \n",
       "3               3103200.000  3596967.592  4090735.184  "
      ]
     },
     "execution_count": 39,
     "metadata": {},
     "output_type": "execute_result"
    }
   ],
   "source": [
    "#apply clustering\n",
    "kmeans = KMeans(n_clusters=4)\n",
    "UK_TECH_region_group['RevenueCluster'] = kmeans.fit_predict(UK_TECH_region_group[['REVENUE']])\n",
    "\n",
    "#order the cluster numbers\n",
    "UK_TECH_region_group = order_cluster('RevenueCluster', 'REVENUE',UK_TECH_region_group,True)\n",
    "\n",
    "#show details of the dataframe\n",
    "UK_TECH_region_group.groupby('RevenueCluster')['REVENUE'].describe()"
   ]
  },
  {
   "cell_type": "markdown",
   "metadata": {},
   "source": [
    "### 5 - OVERALL SCORE BASE ON RFM "
   ]
  },
  {
   "cell_type": "code",
   "execution_count": 40,
   "metadata": {},
   "outputs": [
    {
     "data": {
      "text/html": [
       "<div>\n",
       "<style scoped>\n",
       "    .dataframe tbody tr th:only-of-type {\n",
       "        vertical-align: middle;\n",
       "    }\n",
       "\n",
       "    .dataframe tbody tr th {\n",
       "        vertical-align: top;\n",
       "    }\n",
       "\n",
       "    .dataframe thead th {\n",
       "        text-align: right;\n",
       "    }\n",
       "</style>\n",
       "<table border=\"1\" class=\"dataframe\">\n",
       "  <thead>\n",
       "    <tr style=\"text-align: right;\">\n",
       "      <th></th>\n",
       "      <th>Recency</th>\n",
       "      <th>Frequency</th>\n",
       "      <th>REVENUE</th>\n",
       "    </tr>\n",
       "    <tr>\n",
       "      <th>OverallScore</th>\n",
       "      <th></th>\n",
       "      <th></th>\n",
       "      <th></th>\n",
       "    </tr>\n",
       "  </thead>\n",
       "  <tbody>\n",
       "    <tr>\n",
       "      <th>0</th>\n",
       "      <td>1641.071429</td>\n",
       "      <td>1.000000</td>\n",
       "      <td>6.958661e+04</td>\n",
       "    </tr>\n",
       "    <tr>\n",
       "      <th>1</th>\n",
       "      <td>1317.000000</td>\n",
       "      <td>1.466667</td>\n",
       "      <td>1.688621e+05</td>\n",
       "    </tr>\n",
       "    <tr>\n",
       "      <th>2</th>\n",
       "      <td>831.650000</td>\n",
       "      <td>1.700000</td>\n",
       "      <td>1.514699e+05</td>\n",
       "    </tr>\n",
       "    <tr>\n",
       "      <th>3</th>\n",
       "      <td>603.941176</td>\n",
       "      <td>2.294118</td>\n",
       "      <td>2.802172e+05</td>\n",
       "    </tr>\n",
       "    <tr>\n",
       "      <th>4</th>\n",
       "      <td>485.200000</td>\n",
       "      <td>3.066667</td>\n",
       "      <td>3.271199e+05</td>\n",
       "    </tr>\n",
       "    <tr>\n",
       "      <th>5</th>\n",
       "      <td>438.200000</td>\n",
       "      <td>4.000000</td>\n",
       "      <td>7.229300e+05</td>\n",
       "    </tr>\n",
       "    <tr>\n",
       "      <th>6</th>\n",
       "      <td>486.500000</td>\n",
       "      <td>7.500000</td>\n",
       "      <td>1.446032e+06</td>\n",
       "    </tr>\n",
       "    <tr>\n",
       "      <th>7</th>\n",
       "      <td>332.800000</td>\n",
       "      <td>7.000000</td>\n",
       "      <td>1.391201e+06</td>\n",
       "    </tr>\n",
       "    <tr>\n",
       "      <th>8</th>\n",
       "      <td>208.750000</td>\n",
       "      <td>10.125000</td>\n",
       "      <td>2.044927e+06</td>\n",
       "    </tr>\n",
       "    <tr>\n",
       "      <th>9</th>\n",
       "      <td>71.000000</td>\n",
       "      <td>8.000000</td>\n",
       "      <td>3.103200e+06</td>\n",
       "    </tr>\n",
       "  </tbody>\n",
       "</table>\n",
       "</div>"
      ],
      "text/plain": [
       "                  Recency  Frequency       REVENUE\n",
       "OverallScore                                      \n",
       "0             1641.071429   1.000000  6.958661e+04\n",
       "1             1317.000000   1.466667  1.688621e+05\n",
       "2              831.650000   1.700000  1.514699e+05\n",
       "3              603.941176   2.294118  2.802172e+05\n",
       "4              485.200000   3.066667  3.271199e+05\n",
       "5              438.200000   4.000000  7.229300e+05\n",
       "6              486.500000   7.500000  1.446032e+06\n",
       "7              332.800000   7.000000  1.391201e+06\n",
       "8              208.750000  10.125000  2.044927e+06\n",
       "9               71.000000   8.000000  3.103200e+06"
      ]
     },
     "execution_count": 40,
     "metadata": {},
     "output_type": "execute_result"
    }
   ],
   "source": [
    "#calculate overall score and use mean() to see details\n",
    "UK_TECH_region_group['OverallScore'] = UK_TECH_region_group['RecencyCluster'] + UK_TECH_region_group['FrequencyCluster'] + UK_TECH_region_group['RevenueCluster']\n",
    "UK_TECH_region_group.groupby('OverallScore')['Recency','Frequency','REVENUE'].mean()"
   ]
  },
  {
   "cell_type": "code",
   "execution_count": 41,
   "metadata": {},
   "outputs": [
    {
     "data": {
      "text/plain": [
       "2    20\n",
       "3    17\n",
       "4    15\n",
       "1    15\n",
       "0    14\n",
       "5    10\n",
       "8     8\n",
       "7     5\n",
       "6     2\n",
       "9     1\n",
       "Name: OverallScore, dtype: int64"
      ]
     },
     "execution_count": 41,
     "metadata": {},
     "output_type": "execute_result"
    }
   ],
   "source": [
    "UK_TECH_region_group['OverallScore'].value_counts()"
   ]
  },
  {
   "cell_type": "markdown",
   "metadata": {},
   "source": [
    "### 5.1 Clustering Customer Lifetime Value"
   ]
  },
  {
   "cell_type": "code",
   "execution_count": 42,
   "metadata": {},
   "outputs": [],
   "source": [
    "df_UK_TECH_region[\"DATE\"] = pd.to_datetime(df_UK_TECH_region[\"DATE\"]).dt.date"
   ]
  },
  {
   "cell_type": "code",
   "execution_count": 43,
   "metadata": {},
   "outputs": [],
   "source": [
    "UK_TECH_xreg_OneY = df_UK_TECH_region[(df_UK_TECH_region.DATE >= one_year_ago) & (df_UK_TECH_region.DATE < today)].reset_index(drop=True) #1 years time\n",
    "UK_TECH_xreg_TwoY = df_UK_TECH_region[(df_UK_TECH_region.DATE >= two_year_ago) & (df_UK_TECH_region.DATE < today)].reset_index(drop=True) #2 years time"
   ]
  },
  {
   "cell_type": "code",
   "execution_count": 44,
   "metadata": {},
   "outputs": [],
   "source": [
    "#calculate revenue and create a new dataframe for it\n",
    "UK_TECH_xreg_OneY['Revenue'] = UK_TECH_xreg_OneY['VALUE']\n",
    "UK_TECH_xreg_user_OneY = UK_TECH_xreg_OneY.groupby('CUSTOMER')['Revenue'].sum().reset_index()\n",
    "UK_TECH_xreg_user_OneY.columns = ['CUSTOMER','OneY_Revenue']"
   ]
  },
  {
   "cell_type": "code",
   "execution_count": 45,
   "metadata": {},
   "outputs": [],
   "source": [
    "#calculate revenue and create a new dataframe for it\n",
    "UK_TECH_xreg_TwoY['Revenue'] = UK_TECH_xreg_TwoY['VALUE']\n",
    "UK_TECH_xreg_user_TwoY = UK_TECH_xreg_TwoY.groupby('CUSTOMER')['Revenue'].sum().reset_index()\n",
    "UK_TECH_xreg_user_TwoY.columns = ['CUSTOMER','TwoY_Revenue']"
   ]
  },
  {
   "cell_type": "code",
   "execution_count": 46,
   "metadata": {},
   "outputs": [],
   "source": [
    "UK_TECH_region_group_X = pd.merge(UK_TECH_xreg_user_OneY, UK_TECH_xreg_user_TwoY, on='CUSTOMER', how='left') #Only people who are in the timeline of tx_user_1a e 2a\n",
    "UK_TECH_xreg_merge = pd.merge(UK_TECH_region_group, UK_TECH_region_group_X, on='CUSTOMER', how='left') "
   ]
  },
  {
   "cell_type": "code",
   "execution_count": 47,
   "metadata": {},
   "outputs": [],
   "source": [
    "UK_TECH_xreg_final = UK_TECH_xreg_merge.fillna(0) # replacing missing value with 0"
   ]
  },
  {
   "cell_type": "code",
   "execution_count": 48,
   "metadata": {},
   "outputs": [],
   "source": [
    "#remove outliers\n",
    "#ent_merge = ent_merge[ent_merge['1A_Revenue']<ent_merge['1A_Revenue'].quantile(0.95)]"
   ]
  },
  {
   "cell_type": "code",
   "execution_count": 49,
   "metadata": {},
   "outputs": [],
   "source": [
    "UK_TECH_xreg_final = UK_TECH_xreg_final.sort_values(by=['OverallScore','OneY_Revenue','REVENUE'], ascending=False)\n",
    "UK_TECH_xreg_final = UK_TECH_xreg_final.reset_index(drop=True)"
   ]
  },
  {
   "cell_type": "markdown",
   "metadata": {},
   "source": [
    "### Criando rótulos de segmentação"
   ]
  },
  {
   "cell_type": "code",
   "execution_count": 50,
   "metadata": {},
   "outputs": [],
   "source": [
    "# rótulo geral\n",
    "UK_TECH_xreg_final['Segment'] = '09.Dead' # condição 0\n",
    "UK_TECH_xreg_final['Segment'] = np.where((UK_TECH_xreg_final.OverallScore == 1), '08.Hibertaning',UK_TECH_xreg_final['Segment'])\n",
    "UK_TECH_xreg_final['Segment'] = np.where((UK_TECH_xreg_final.OverallScore == 2) & (UK_TECH_xreg_final.OneY_Revenue > 0), '06.Low Potential',UK_TECH_xreg_final['Segment'])\n",
    "UK_TECH_xreg_final['Segment'] = np.where((UK_TECH_xreg_final.OverallScore == 3) & (UK_TECH_xreg_final.OneY_Revenue > 0), '06.Low Potential',UK_TECH_xreg_final['Segment'])\n",
    "UK_TECH_xreg_final['Segment'] = np.where((UK_TECH_xreg_final.OverallScore == 4) & (UK_TECH_xreg_final.OneY_Revenue > 0), '06.Low Potential',UK_TECH_xreg_final['Segment'])\n",
    "UK_TECH_xreg_final['Segment'] = np.where(((UK_TECH_xreg_final.OverallScore == 5) | (UK_TECH_xreg_final.OverallScore == 6)), '03.Potential Loyalty',UK_TECH_xreg_final['Segment'])\n",
    "UK_TECH_xreg_final['Segment'] = np.where(((UK_TECH_xreg_final.OverallScore == 7) | (UK_TECH_xreg_final.OverallScore == 8)), '02.Loyal',UK_TECH_xreg_final['Segment'])\n",
    "UK_TECH_xreg_final['Segment'] = np.where((UK_TECH_xreg_final.OverallScore == 9), '01.Champion',UK_TECH_xreg_final['Segment'])"
   ]
  },
  {
   "cell_type": "code",
   "execution_count": 51,
   "metadata": {},
   "outputs": [],
   "source": [
    "Loyal = UK_TECH_xreg_final.query(\"Segment=='02.Loyal'\").reset_index(drop=True)\n",
    "Loyal['Segment'] = np.where(Loyal['OneY_Revenue'] <= Loyal.quantile(0.15)['OneY_Revenue'], '02.Loyal - Needing Attention',Loyal['Segment'])\n",
    "\n",
    "Potencial = UK_TECH_xreg_final.query(\"Segment=='03.Potential Loyalty'\").reset_index(drop=True)\n",
    "Potencial['Segment'] = np.where(Potencial['OneY_Revenue'] <= Potencial.quantile(0.15)['OneY_Revenue'], '03.Potencial - Needing Attention',Potencial['Segment'])\n",
    "\n",
    "# New Customer\n",
    "UK_TECH_xreg_final['Segment'] = np.where(((UK_TECH_xreg_final.OverallScore == 3) |(UK_TECH_xreg_final.OverallScore == 4)) & (UK_TECH_xreg_final.OneY_Revenue == UK_TECH_xreg_final.REVENUE), '05.New Customer',UK_TECH_xreg_final['Segment'])\n",
    "UK_TECH_xreg_final['Segment'] = np.where(((UK_TECH_xreg_final.OverallScore == 5)|(UK_TECH_xreg_final.OverallScore == 6)) & (UK_TECH_xreg_final.OneY_Revenue == UK_TECH_xreg_final.REVENUE), '05.New Customer',UK_TECH_xreg_final['Segment'])\n",
    "\n",
    "Promising = UK_TECH_xreg_final.query(\"Segment=='05.New Customer'\").reset_index(drop=True)\n",
    "Promising['Segment'] = np.where(Promising['OneY_Revenue'] >= Promising.quantile(0.85)['OneY_Revenue'], '04.Promising',Promising['Segment'])\n",
    "\n",
    "Append_df = Loyal.append(Potencial)\n",
    "Append_df = Append_df.append(Promising)\n"
   ]
  },
  {
   "cell_type": "code",
   "execution_count": 52,
   "metadata": {},
   "outputs": [],
   "source": [
    "#join and adjust\n",
    "UK_TECH_xreg_final = pd.merge(UK_TECH_xreg_final, Append_df[['CUSTOMER','Segment']], on='CUSTOMER', how='left')\n",
    "UK_TECH_xreg_final = UK_TECH_xreg_final.rename(columns={'Segment_x': 'Before_Segment', 'Segment_y': 'Segment' })\n",
    "UK_TECH_xreg_final['Segment'] = np.where(UK_TECH_xreg_final['Segment'].isnull() , UK_TECH_xreg_final['Before_Segment'], UK_TECH_xreg_final['Segment'])\n",
    "del UK_TECH_xreg_final['Before_Segment']"
   ]
  },
  {
   "cell_type": "code",
   "execution_count": 53,
   "metadata": {},
   "outputs": [],
   "source": [
    "# corrigir \n",
    "UK_TECH_xreg_final['Segment'] = np.where((UK_TECH_xreg_final.OverallScore == 2) & (UK_TECH_xreg_final.OneY_Revenue == 0), '07.Sleeping',UK_TECH_xreg_final['Segment'])\n",
    "UK_TECH_xreg_final['Segment'] = np.where((UK_TECH_xreg_final.OverallScore == 3) & (UK_TECH_xreg_final.OneY_Revenue == 0), '07.Sleeping',UK_TECH_xreg_final['Segment'])\n",
    "UK_TECH_xreg_final['Segment'] = np.where((UK_TECH_xreg_final.OverallScore == 4) & (UK_TECH_xreg_final.OneY_Revenue == 0), '07.Sleeping',UK_TECH_xreg_final['Segment'])"
   ]
  },
  {
   "cell_type": "markdown",
   "metadata": {},
   "source": [
    "### 6 - Resultados"
   ]
  },
  {
   "cell_type": "code",
   "execution_count": 54,
   "metadata": {},
   "outputs": [
    {
     "data": {
      "text/html": [
       "<div>\n",
       "<style scoped>\n",
       "    .dataframe tbody tr th:only-of-type {\n",
       "        vertical-align: middle;\n",
       "    }\n",
       "\n",
       "    .dataframe tbody tr th {\n",
       "        vertical-align: top;\n",
       "    }\n",
       "\n",
       "    .dataframe thead th {\n",
       "        text-align: right;\n",
       "    }\n",
       "</style>\n",
       "<table border=\"1\" class=\"dataframe\">\n",
       "  <thead>\n",
       "    <tr style=\"text-align: right;\">\n",
       "      <th></th>\n",
       "      <th>index</th>\n",
       "      <th>Segment</th>\n",
       "      <th>Total</th>\n",
       "      <th>Percentage</th>\n",
       "    </tr>\n",
       "  </thead>\n",
       "  <tbody>\n",
       "    <tr>\n",
       "      <th>0</th>\n",
       "      <td>07.Sleeping</td>\n",
       "      <td>40</td>\n",
       "      <td>107</td>\n",
       "      <td>37.38</td>\n",
       "    </tr>\n",
       "    <tr>\n",
       "      <th>1</th>\n",
       "      <td>08.Hibertaning</td>\n",
       "      <td>15</td>\n",
       "      <td>107</td>\n",
       "      <td>14.02</td>\n",
       "    </tr>\n",
       "    <tr>\n",
       "      <th>2</th>\n",
       "      <td>09.Dead</td>\n",
       "      <td>14</td>\n",
       "      <td>107</td>\n",
       "      <td>13.08</td>\n",
       "    </tr>\n",
       "    <tr>\n",
       "      <th>3</th>\n",
       "      <td>02.Loyal</td>\n",
       "      <td>10</td>\n",
       "      <td>107</td>\n",
       "      <td>9.35</td>\n",
       "    </tr>\n",
       "    <tr>\n",
       "      <th>4</th>\n",
       "      <td>03.Potencial - Needing Attention</td>\n",
       "      <td>7</td>\n",
       "      <td>107</td>\n",
       "      <td>6.54</td>\n",
       "    </tr>\n",
       "    <tr>\n",
       "      <th>5</th>\n",
       "      <td>06.Low Potential</td>\n",
       "      <td>6</td>\n",
       "      <td>107</td>\n",
       "      <td>5.61</td>\n",
       "    </tr>\n",
       "    <tr>\n",
       "      <th>6</th>\n",
       "      <td>05.New Customer</td>\n",
       "      <td>5</td>\n",
       "      <td>107</td>\n",
       "      <td>4.67</td>\n",
       "    </tr>\n",
       "    <tr>\n",
       "      <th>7</th>\n",
       "      <td>03.Potential Loyalty</td>\n",
       "      <td>5</td>\n",
       "      <td>107</td>\n",
       "      <td>4.67</td>\n",
       "    </tr>\n",
       "    <tr>\n",
       "      <th>8</th>\n",
       "      <td>02.Loyal - Needing Attention</td>\n",
       "      <td>3</td>\n",
       "      <td>107</td>\n",
       "      <td>2.80</td>\n",
       "    </tr>\n",
       "    <tr>\n",
       "      <th>9</th>\n",
       "      <td>04.Promising</td>\n",
       "      <td>1</td>\n",
       "      <td>107</td>\n",
       "      <td>0.93</td>\n",
       "    </tr>\n",
       "    <tr>\n",
       "      <th>10</th>\n",
       "      <td>01.Champion</td>\n",
       "      <td>1</td>\n",
       "      <td>107</td>\n",
       "      <td>0.93</td>\n",
       "    </tr>\n",
       "  </tbody>\n",
       "</table>\n",
       "</div>"
      ],
      "text/plain": [
       "                               index  Segment  Total  Percentage\n",
       "0                        07.Sleeping       40    107       37.38\n",
       "1                     08.Hibertaning       15    107       14.02\n",
       "2                            09.Dead       14    107       13.08\n",
       "3                           02.Loyal       10    107        9.35\n",
       "4   03.Potencial - Needing Attention        7    107        6.54\n",
       "5                   06.Low Potential        6    107        5.61\n",
       "6                    05.New Customer        5    107        4.67\n",
       "7               03.Potential Loyalty        5    107        4.67\n",
       "8       02.Loyal - Needing Attention        3    107        2.80\n",
       "9                       04.Promising        1    107        0.93\n",
       "10                       01.Champion        1    107        0.93"
      ]
     },
     "execution_count": 54,
     "metadata": {},
     "output_type": "execute_result"
    }
   ],
   "source": [
    "#percentage\n",
    "UK_TECH_xreg_perct = (pd.DataFrame(UK_TECH_xreg_final['Segment'].value_counts())).reset_index()\n",
    "UK_TECH_xreg_perct['Total'] = UK_TECH_xreg_perct['Segment'].sum()\n",
    "UK_TECH_xreg_perct['Percentage'] =round(((UK_TECH_xreg_perct['Segment']/UK_TECH_xreg_perct['Total'])*100),2)\n",
    "UK_TECH_xreg_perct"
   ]
  },
  {
   "cell_type": "code",
   "execution_count": 55,
   "metadata": {},
   "outputs": [
    {
     "data": {
      "image/png": "[encoded data removed]",
      "text/plain": [
       "<Figure size 1440x504 with 1 Axes>"
      ]
     },
     "metadata": {},
     "output_type": "display_data"
    }
   ],
   "source": [
    "import matplotlib.pyplot as plt\n",
    "import seaborn as sns\n",
    "\n",
    "plt.figure (figsize=(20,7))\n",
    "data = UK_TECH_xreg_perct['Percentage']\n",
    "labels = UK_TECH_xreg_perct['index']\n",
    "\n",
    "#define Seaborn color palette to use\n",
    "#colors = sns.color_palette('Greens_d')[0:5]\n",
    "colors = ['#2F4F4F','#698B69','#228B22','#00CD00','#00EE00','#00C78C','#00AAAA','#00C69C','#00E28E','#00FF80',]\n",
    "\n",
    "#create pie chart\n",
    "plt.pie(data, labels = labels, colors = colors, autopct='%.0f%%')\n",
    "#plt.savefig(\"C:\\Projetos Python\\TCC\\plots\\UK_TECH_percentage.jpg\")\n",
    "plt.show()"
   ]
  },
  {
   "cell_type": "code",
   "execution_count": 56,
   "metadata": {
    "scrolled": true
   },
   "outputs": [
    {
     "data": {
      "text/plain": [
       "07.Sleeping                         40\n",
       "08.Hibertaning                      15\n",
       "09.Dead                             14\n",
       "02.Loyal                            10\n",
       "03.Potencial - Needing Attention     7\n",
       "06.Low Potential                     6\n",
       "05.New Customer                      5\n",
       "03.Potential Loyalty                 5\n",
       "02.Loyal - Needing Attention         3\n",
       "04.Promising                         1\n",
       "01.Champion                          1\n",
       "Name: Segment, dtype: int64"
      ]
     },
     "execution_count": 56,
     "metadata": {},
     "output_type": "execute_result"
    },
    {
     "data": {
      "image/png": "[encoded data removed]",
      "text/plain": [
       "<Figure size 2160x576 with 1 Axes>"
      ]
     },
     "metadata": {
      "needs_background": "light"
     },
     "output_type": "display_data"
    }
   ],
   "source": [
    "plt.figure (figsize=(30,8))\n",
    "sns.countplot (\"Segment\", data=UK_TECH_xreg_final, palette=\"Greens_d\")\n",
    "UK_TECH_xreg_final['Segment'].value_counts()\n",
    "#plt.savefig(\"C:\\Projetos Python\\clv\\plots\\UK_TECH_bar.jpg\")"
   ]
  },
  {
   "cell_type": "code",
   "execution_count": 57,
   "metadata": {},
   "outputs": [
    {
     "data": {
      "text/plain": [
       "07.Sleeping                         40\n",
       "08.Hibertaning                      15\n",
       "09.Dead                             14\n",
       "02.Loyal                            10\n",
       "03.Potencial - Needing Attention     7\n",
       "06.Low Potential                     6\n",
       "05.New Customer                      5\n",
       "03.Potential Loyalty                 5\n",
       "02.Loyal - Needing Attention         3\n",
       "04.Promising                         1\n",
       "01.Champion                          1\n",
       "Name: Segment, dtype: int64"
      ]
     },
     "execution_count": 57,
     "metadata": {},
     "output_type": "execute_result"
    }
   ],
   "source": [
    "UK_TECH_xreg_final['Segment'].value_counts()"
   ]
  },
  {
   "cell_type": "code",
   "execution_count": 69,
   "metadata": {
    "scrolled": true
   },
   "outputs": [
    {
     "data": {
      "text/html": [
       "<div>\n",
       "<style scoped>\n",
       "    .dataframe tbody tr th:only-of-type {\n",
       "        vertical-align: middle;\n",
       "    }\n",
       "\n",
       "    .dataframe tbody tr th {\n",
       "        vertical-align: top;\n",
       "    }\n",
       "\n",
       "    .dataframe thead th {\n",
       "        text-align: right;\n",
       "    }\n",
       "</style>\n",
       "<table border=\"1\" class=\"dataframe\">\n",
       "  <thead>\n",
       "    <tr style=\"text-align: right;\">\n",
       "      <th></th>\n",
       "      <th>CUSTOMER</th>\n",
       "      <th>Recency</th>\n",
       "      <th>RecencyCluster</th>\n",
       "      <th>Frequency</th>\n",
       "      <th>FrequencyCluster</th>\n",
       "      <th>REVENUE</th>\n",
       "      <th>RevenueCluster</th>\n",
       "      <th>OverallScore</th>\n",
       "      <th>OneY_Revenue</th>\n",
       "      <th>Segment</th>\n",
       "    </tr>\n",
       "  </thead>\n",
       "  <tbody>\n",
       "    <tr>\n",
       "      <th>0</th>\n",
       "      <td>UNILEVER</td>\n",
       "      <td>71</td>\n",
       "      <td>3</td>\n",
       "      <td>8</td>\n",
       "      <td>3</td>\n",
       "      <td>3103200.000</td>\n",
       "      <td>3</td>\n",
       "      <td>9</td>\n",
       "      <td>1520000.000</td>\n",
       "      <td>01.Champion</td>\n",
       "    </tr>\n",
       "    <tr>\n",
       "      <th>1</th>\n",
       "      <td>ASTRAZENECA</td>\n",
       "      <td>66</td>\n",
       "      <td>3</td>\n",
       "      <td>6</td>\n",
       "      <td>2</td>\n",
       "      <td>2970578.480</td>\n",
       "      <td>3</td>\n",
       "      <td>8</td>\n",
       "      <td>1580000.000</td>\n",
       "      <td>02.Loyal</td>\n",
       "    </tr>\n",
       "    <tr>\n",
       "      <th>2</th>\n",
       "      <td>HSBC</td>\n",
       "      <td>57</td>\n",
       "      <td>3</td>\n",
       "      <td>13</td>\n",
       "      <td>4</td>\n",
       "      <td>1302534.792</td>\n",
       "      <td>1</td>\n",
       "      <td>8</td>\n",
       "      <td>869293.872</td>\n",
       "      <td>02.Loyal</td>\n",
       "    </tr>\n",
       "    <tr>\n",
       "      <th>3</th>\n",
       "      <td>RIO TINTO</td>\n",
       "      <td>36</td>\n",
       "      <td>3</td>\n",
       "      <td>13</td>\n",
       "      <td>4</td>\n",
       "      <td>824581.512</td>\n",
       "      <td>1</td>\n",
       "      <td>8</td>\n",
       "      <td>581724.080</td>\n",
       "      <td>02.Loyal</td>\n",
       "    </tr>\n",
       "    <tr>\n",
       "      <th>4</th>\n",
       "      <td>DIAGEO</td>\n",
       "      <td>66</td>\n",
       "      <td>3</td>\n",
       "      <td>9</td>\n",
       "      <td>3</td>\n",
       "      <td>2070070.384</td>\n",
       "      <td>2</td>\n",
       "      <td>8</td>\n",
       "      <td>341431.584</td>\n",
       "      <td>02.Loyal</td>\n",
       "    </tr>\n",
       "    <tr>\n",
       "      <th>5</th>\n",
       "      <td>GLAXOSMITHKLINE</td>\n",
       "      <td>264</td>\n",
       "      <td>3</td>\n",
       "      <td>10</td>\n",
       "      <td>3</td>\n",
       "      <td>2619992.568</td>\n",
       "      <td>2</td>\n",
       "      <td>8</td>\n",
       "      <td>27633.224</td>\n",
       "      <td>02.Loyal</td>\n",
       "    </tr>\n",
       "    <tr>\n",
       "      <th>6</th>\n",
       "      <td>BRITISH AMERICAN TABACCO</td>\n",
       "      <td>179</td>\n",
       "      <td>3</td>\n",
       "      <td>4</td>\n",
       "      <td>2</td>\n",
       "      <td>4090735.184</td>\n",
       "      <td>3</td>\n",
       "      <td>8</td>\n",
       "      <td>16000.000</td>\n",
       "      <td>02.Loyal</td>\n",
       "    </tr>\n",
       "    <tr>\n",
       "      <th>7</th>\n",
       "      <td>ANGLO AMERICAN</td>\n",
       "      <td>615</td>\n",
       "      <td>2</td>\n",
       "      <td>12</td>\n",
       "      <td>4</td>\n",
       "      <td>1453376.544</td>\n",
       "      <td>2</td>\n",
       "      <td>8</td>\n",
       "      <td>0.000</td>\n",
       "      <td>02.Loyal - Needing Attention</td>\n",
       "    </tr>\n",
       "    <tr>\n",
       "      <th>8</th>\n",
       "      <td>BP</td>\n",
       "      <td>387</td>\n",
       "      <td>3</td>\n",
       "      <td>14</td>\n",
       "      <td>4</td>\n",
       "      <td>1027549.224</td>\n",
       "      <td>1</td>\n",
       "      <td>8</td>\n",
       "      <td>0.000</td>\n",
       "      <td>02.Loyal - Needing Attention</td>\n",
       "    </tr>\n",
       "    <tr>\n",
       "      <th>9</th>\n",
       "      <td>ROYAL DUTCH SHELL</td>\n",
       "      <td>343</td>\n",
       "      <td>3</td>\n",
       "      <td>7</td>\n",
       "      <td>3</td>\n",
       "      <td>1071352.736</td>\n",
       "      <td>1</td>\n",
       "      <td>7</td>\n",
       "      <td>612000.000</td>\n",
       "      <td>02.Loyal</td>\n",
       "    </tr>\n",
       "  </tbody>\n",
       "</table>\n",
       "</div>"
      ],
      "text/plain": [
       "                   CUSTOMER  Recency  RecencyCluster  Frequency  \\\n",
       "0                  UNILEVER       71               3          8   \n",
       "1               ASTRAZENECA       66               3          6   \n",
       "2                      HSBC       57               3         13   \n",
       "3                 RIO TINTO       36               3         13   \n",
       "4                    DIAGEO       66               3          9   \n",
       "5           GLAXOSMITHKLINE      264               3         10   \n",
       "6  BRITISH AMERICAN TABACCO      179               3          4   \n",
       "7            ANGLO AMERICAN      615               2         12   \n",
       "8                        BP      387               3         14   \n",
       "9         ROYAL DUTCH SHELL      343               3          7   \n",
       "\n",
       "   FrequencyCluster      REVENUE  RevenueCluster  OverallScore  OneY_Revenue  \\\n",
       "0                 3  3103200.000               3             9   1520000.000   \n",
       "1                 2  2970578.480               3             8   1580000.000   \n",
       "2                 4  1302534.792               1             8    869293.872   \n",
       "3                 4   824581.512               1             8    581724.080   \n",
       "4                 3  2070070.384               2             8    341431.584   \n",
       "5                 3  2619992.568               2             8     27633.224   \n",
       "6                 2  4090735.184               3             8     16000.000   \n",
       "7                 4  1453376.544               2             8         0.000   \n",
       "8                 4  1027549.224               1             8         0.000   \n",
       "9                 3  1071352.736               1             7    612000.000   \n",
       "\n",
       "                        Segment  \n",
       "0                   01.Champion  \n",
       "1                      02.Loyal  \n",
       "2                      02.Loyal  \n",
       "3                      02.Loyal  \n",
       "4                      02.Loyal  \n",
       "5                      02.Loyal  \n",
       "6                      02.Loyal  \n",
       "7  02.Loyal - Needing Attention  \n",
       "8  02.Loyal - Needing Attention  \n",
       "9                      02.Loyal  "
      ]
     },
     "execution_count": 69,
     "metadata": {},
     "output_type": "execute_result"
    }
   ],
   "source": [
    "UK_TECH_xreg_final.head(10)"
   ]
  },
  {
   "cell_type": "code",
   "execution_count": 58,
   "metadata": {},
   "outputs": [],
   "source": [
    "UK_TECH_xreg_final.to_excel(r'C:\\Projetos Python\\TCC\\Output\\\\CLUSTER_UK_TECH.xlsx', sheet_name='UK_TECH', index = False)"
   ]
  },
  {
   "cell_type": "code",
   "execution_count": 59,
   "metadata": {
    "scrolled": true
   },
   "outputs": [
    {
     "name": "stdout",
     "output_type": "stream",
     "text": [
      "END\n"
     ]
    }
   ],
   "source": [
    "print('END')"
   ]
  }
 ],
 "metadata": {
  "kernelspec": {
   "display_name": "Python 3",
   "language": "python",
   "name": "python3"
  },
  "language_info": {
   "codemirror_mode": {
    "name": "ipython",
    "version": 3
   },
   "file_extension": ".py",
   "mimetype": "text/x-python",
   "name": "python",
   "nbconvert_exporter": "python",
   "pygments_lexer": "ipython3",
   "version": "3.8.5"
  }
 },
 "nbformat": 4,
 "nbformat_minor": 4
}
